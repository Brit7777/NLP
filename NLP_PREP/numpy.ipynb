{
 "cells": [
  {
   "cell_type": "markdown",
   "metadata": {},
   "source": [
    "### numpy array"
   ]
  },
  {
   "cell_type": "code",
   "execution_count": 1,
   "metadata": {},
   "outputs": [],
   "source": [
    "import numpy as np"
   ]
  },
  {
   "cell_type": "code",
   "execution_count": 10,
   "metadata": {},
   "outputs": [
    {
     "name": "stdout",
     "output_type": "stream",
     "text": [
      "[[1 2 3]\n",
      " [1 5 9]\n",
      " [3 5 7]]\n",
      "2\n",
      "(3, 3)\n",
      "9\n",
      "int64\n"
     ]
    }
   ],
   "source": [
    "a = np.array([[1,2,3],[1,5,9],[3,5,7]])\n",
    "\n",
    "# number of array dimension\n",
    "print(a.ndim)\n",
    "print(a.shape)\n",
    "print(a.size)\n",
    "print(a.dtype)"
   ]
  },
  {
   "cell_type": "code",
   "execution_count": 19,
   "metadata": {},
   "outputs": [
    {
     "name": "stdout",
     "output_type": "stream",
     "text": [
      "[[0. 0. 0.]\n",
      " [0. 0. 0.]]\n",
      "[[1. 1. 1.]\n",
      " [1. 1. 1.]]\n",
      "[[2.27610064e-314 2.20180060e-314]\n",
      " [2.20183288e-314 2.20116257e-314]]\n",
      "[10 15 20 25]\n",
      "[[4 4]\n",
      " [4 4]]\n",
      "[[1. 0. 0.]\n",
      " [0. 1. 0.]\n",
      " [0. 0. 1.]]\n",
      "[[0.52482156 0.81331972]\n",
      " [0.2543198  0.98470216]]\n"
     ]
    }
   ],
   "source": [
    "# create array with elements in 0\n",
    "a = np.zeros((2,3))\n",
    "print(a)\n",
    "\n",
    "# create array with elements in 1\n",
    "b = np.ones((2,3))\n",
    "print(b)\n",
    "\n",
    "# create array with elements in unspecified value\n",
    "c = np.empty((2,2))\n",
    "print(c)\n",
    "\n",
    "# create array with values in multiple of 5 from 10 to 30\n",
    "d = np.arange(10,30,5)\n",
    "print(d)\n",
    "\n",
    "# create array with elements in 4\n",
    "e = np.full((2,2),4)\n",
    "print(e)\n",
    "\n",
    "# 3x3 matrix \n",
    "f = np.eye(3)\n",
    "print(f)\n",
    "\n",
    "# create array with random values\n",
    "g = np.random.random((2,2))\n",
    "print(g)"
   ]
  },
  {
   "cell_type": "markdown",
   "metadata": {},
   "source": [
    "### numpy indexing/slicing"
   ]
  },
  {
   "cell_type": "code",
   "execution_count": 21,
   "metadata": {},
   "outputs": [
    {
     "name": "stdout",
     "output_type": "stream",
     "text": [
      "4\n",
      "7\n",
      "[3 4 5]\n",
      "[3 4 5 6 7]\n",
      "[1 2 3 4]\n"
     ]
    }
   ],
   "source": [
    "a = np.array([1,2,3,4,5,6,7])\n",
    "\n",
    "# index3\n",
    "print(a[3])\n",
    "# value in last index\n",
    "print(a[-1])\n",
    "# index2 to 4\n",
    "print(a[2:5])\n",
    "# index 2 to the end\n",
    "print(a[2: ])\n",
    "# index0 to 3\n",
    "print(a[ :4])"
   ]
  },
  {
   "cell_type": "code",
   "execution_count": 23,
   "metadata": {},
   "outputs": [
    {
     "name": "stdout",
     "output_type": "stream",
     "text": [
      "6\n",
      "[2 5 8]\n",
      "[4 5 6]\n",
      "[7 8 9]\n"
     ]
    }
   ],
   "source": [
    "a = np.array([[ 1, 2, 3],\n",
    "              [ 4, 5, 6],\n",
    "              [ 7, 8, 9]])\n",
    "\n",
    "print(a[1,2])\n",
    "# column 1\n",
    "print(a[ : ,1])\n",
    "# row 1\n",
    "print(a[1, :])\n",
    "# last row\n",
    "print(a[-1])"
   ]
  },
  {
   "cell_type": "markdown",
   "metadata": {},
   "source": [
    "### numpy reshaping"
   ]
  },
  {
   "cell_type": "code",
   "execution_count": 25,
   "metadata": {},
   "outputs": [
    {
     "name": "stdout",
     "output_type": "stream",
     "text": [
      "[ 1  2  3  4  5  6  7  8  9 10 11 12]\n",
      "[[ 1  2  3  4  5  6]\n",
      " [ 7  8  9 10 11 12]]\n",
      "[[ 1  5  9]\n",
      " [ 2  6 10]\n",
      " [ 3  7 11]\n",
      " [ 4  8 12]]\n"
     ]
    }
   ],
   "source": [
    "a = np.array([[1,2,3,4],\n",
    "                    [5,6,7,8],\n",
    "                    [9,10,11,12]])\n",
    "\n",
    "# create 1d array\n",
    "print(a.ravel())\n",
    "# reshape into [2][6]array\n",
    "print(a.reshape(2,6))\n",
    "# transpose array\n",
    "print(a.T)"
   ]
  },
  {
   "cell_type": "code",
   "execution_count": 28,
   "metadata": {},
   "outputs": [
    {
     "name": "stdout",
     "output_type": "stream",
     "text": [
      "[[ 1  2  3  5]\n",
      " [ 6  7  9 10]\n",
      " [11 12 13 14]]\n"
     ]
    }
   ],
   "source": [
    "b = np.array([[1,2,3],\n",
    "                    [5,6,7],\n",
    "                    [9,10,11],\n",
    "                    [12,13,14]])\n",
    "\n",
    "# reshape array with 3 row\n",
    "# 3행만 지정해주고 열에 -1을 넣으면 자동으로 배열을 reshape한다.\n",
    "print(b.reshape(3,-1))"
   ]
  }
 ],
 "metadata": {
  "kernelspec": {
   "display_name": "Python 3",
   "language": "python",
   "name": "python3"
  },
  "language_info": {
   "codemirror_mode": {
    "name": "ipython",
    "version": 3
   },
   "file_extension": ".py",
   "mimetype": "text/x-python",
   "name": "python",
   "nbconvert_exporter": "python",
   "pygments_lexer": "ipython3",
   "version": "3.7.1"
  }
 },
 "nbformat": 4,
 "nbformat_minor": 2
}
