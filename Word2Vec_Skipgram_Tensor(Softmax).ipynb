{
 "cells": [
  {
   "cell_type": "code",
   "execution_count": 1,
   "metadata": {},
   "outputs": [],
   "source": [
    "import tensorflow as tf\n",
    "import matplotlib.pyplot as plt\n",
    "import numpy as np"
   ]
  },
  {
   "cell_type": "code",
   "execution_count": 2,
   "metadata": {},
   "outputs": [
    {
     "name": "stdout",
     "output_type": "stream",
     "text": [
      "['i', 'like', 'dog', 'i', 'like', 'cat', 'i', 'like', 'animal', 'dog', 'cat', 'animal', 'apple', 'cat', 'dog', 'like', 'dog', 'fish', 'milk', 'like', 'dog', 'cat', 'eyes', 'like', 'i', 'like', 'apple', 'apple', 'i', 'hate', 'apple', 'i', 'movie', 'book', 'music', 'like', 'cat', 'dog', 'hate', 'cat', 'dog', 'like']\n"
     ]
    }
   ],
   "source": [
    "#words sentence\n",
    "sentences = [ \"i like dog\", \"i like cat\", \"i like animal\",\n",
    "              \"dog cat animal\", \"apple cat dog like\", \"dog fish milk like\",\n",
    "              \"dog cat eyes like\", \"i like apple\", \"apple i hate\",\n",
    "              \"apple i movie book music like\", \"cat dog hate\", \"cat dog like\"]\n",
    "\n",
    "word_sequence = \" \".join(sentences).split()\n",
    "print(word_sequence)"
   ]
  },
  {
   "cell_type": "code",
   "execution_count": 3,
   "metadata": {},
   "outputs": [
    {
     "name": "stdout",
     "output_type": "stream",
     "text": [
      "['hate', 'i', 'movie', 'fish', 'milk', 'apple', 'cat', 'eyes', 'book', 'dog', 'music', 'like', 'animal']\n"
     ]
    }
   ],
   "source": [
    "#set 함수는 중복 제거\n",
    "word_list = list(set(word_sequence))\n",
    "print(word_list)"
   ]
  },
  {
   "cell_type": "code",
   "execution_count": 4,
   "metadata": {},
   "outputs": [
    {
     "name": "stdout",
     "output_type": "stream",
     "text": [
      "{'hate': 0, 'i': 1, 'movie': 2, 'fish': 3, 'milk': 4, 'apple': 5, 'cat': 6, 'eyes': 7, 'book': 8, 'dog': 9, 'music': 10, 'like': 11, 'animal': 12}\n"
     ]
    }
   ],
   "source": [
    "#단어에 index 붙이기\n",
    "word_dict = {w : i for i, w in enumerate(word_list)}\n",
    "print(word_dict)"
   ]
  },
  {
   "attachments": {},
   "cell_type": "markdown",
   "metadata": {},
   "source": [
    "## What is skip-gram?\n",
    "Skip-gram is one of the unsupervised learning techniques used to find the most related words for a given word. In short, it is used to predict the context word for a given target word.\n",
    "> https://towardsdatascience.com/skip-gram-nlp-context-words-prediction-algorithm-5bbf34f84e0c (eng)\n",
    ">https://daewonyoon.tistory.com/241 (kor)\n",
    "\n",
    "![image](https://user-images.githubusercontent.com/35142536/60235510-fc092780-98e2-11e9-8a3f-735067dfc438.png)"
   ]
  },
  {
   "cell_type": "code",
   "execution_count": 5,
   "metadata": {},
   "outputs": [
    {
     "name": "stdout",
     "output_type": "stream",
     "text": [
      "WARNING:tensorflow:From /anaconda3/lib/python3.7/site-packages/tensorflow/python/framework/op_def_library.py:263: colocate_with (from tensorflow.python.framework.ops) is deprecated and will be removed in a future version.\n",
      "Instructions for updating:\n",
      "Colocations handled automatically by placer.\n",
      "Epoch  0100 cost =  2.752562\n",
      "Epoch  0200 cost =  2.602247\n",
      "Epoch  0300 cost =  2.556606\n",
      "Epoch  0400 cost =  2.396443\n",
      "Epoch  0500 cost =  2.446794\n",
      "Epoch  0600 cost =  2.201423\n",
      "Epoch  0700 cost =  2.315049\n",
      "Epoch  0800 cost =  2.399379\n",
      "Epoch  0900 cost =  2.281087\n",
      "Epoch  1000 cost =  2.275872\n",
      "Epoch  1100 cost =  2.077428\n",
      "Epoch  1200 cost =  2.475971\n",
      "Epoch  1300 cost =  2.288138\n",
      "Epoch  1400 cost =  2.206176\n",
      "Epoch  1500 cost =  2.134828\n",
      "Epoch  1600 cost =  2.139932\n",
      "Epoch  1700 cost =  2.178108\n",
      "Epoch  1800 cost =  1.965353\n",
      "Epoch  1900 cost =  1.723281\n",
      "Epoch  2000 cost =  2.026011\n",
      "Epoch  2100 cost =  2.139395\n",
      "Epoch  2200 cost =  2.296395\n",
      "Epoch  2300 cost =  1.632899\n",
      "Epoch  2400 cost =  2.120555\n",
      "Epoch  2500 cost =  2.002764\n",
      "Epoch  2600 cost =  2.097517\n",
      "Epoch  2700 cost =  2.007781\n",
      "Epoch  2800 cost =  1.944270\n",
      "Epoch  2900 cost =  1.825908\n",
      "Epoch  3000 cost =  1.968854\n",
      "Epoch  3100 cost =  2.009549\n",
      "Epoch  3200 cost =  1.710156\n",
      "Epoch  3300 cost =  2.089168\n",
      "Epoch  3400 cost =  1.714123\n",
      "Epoch  3500 cost =  1.684190\n",
      "Epoch  3600 cost =  1.989079\n",
      "Epoch  3700 cost =  1.703390\n",
      "Epoch  3800 cost =  2.072228\n",
      "Epoch  3900 cost =  1.476527\n",
      "Epoch  4000 cost =  1.947687\n",
      "Epoch  4100 cost =  1.949405\n",
      "Epoch  4200 cost =  1.785054\n",
      "Epoch  4300 cost =  1.951633\n",
      "Epoch  4400 cost =  1.902564\n",
      "Epoch  4500 cost =  1.754578\n",
      "Epoch  4600 cost =  1.921275\n",
      "Epoch  4700 cost =  1.758350\n",
      "Epoch  4800 cost =  1.714401\n",
      "Epoch  4900 cost =  1.767191\n",
      "Epoch  5000 cost =  1.697592\n"
     ]
    },
    {
     "data": {
      "image/png": "[encoded data removed]",
      "text/plain": [
       "<Figure size 432x288 with 1 Axes>"
      ]
     },
     "metadata": {
      "needs_background": "light"
     },
     "output_type": "display_data"
    }
   ],
   "source": [
    "tf.reset_default_graph()\n",
    "\n",
    "#word2vec parameter\n",
    "batch_size = 20\n",
    "embedding_size = 2   #2 dim graph\n",
    "voc_size = len(word_list)\n",
    "\n",
    "def random_batch(data, size):\n",
    "    random_inputs = []\n",
    "    random_labels = []\n",
    "    random_index = np.random.choice(range(len(data)),size,replace=False)\n",
    "    \n",
    "    for i in random_index:\n",
    "        random_inputs.append(np.eye(voc_size)[data[i][0]]) #target\n",
    "        random_labels.append(np.eye(voc_size)[data[i][1]]) #context word\n",
    "    return random_inputs, random_labels\n",
    "\n",
    "#make skip-gram of 1 size window  == total 2 words\n",
    "skip_grams = []\n",
    "for i in range(1, len(word_sequence) - 1):\n",
    "    target = word_dict[word_sequence[i]]\n",
    "    context = [word_dict[word_sequence[i - 1]], word_dict[word_sequence[i + 1]]]\n",
    "    \n",
    "    for w in context:\n",
    "        skip_grams.append([target, w])\n",
    "        \n",
    "#model\n",
    "inputs= tf.placeholder(tf.float32, shape=[None, voc_size])\n",
    "labels = tf.placeholder(tf.float32, shape=[None, voc_size])\n",
    "\n",
    "# W and WT is not Traspose relationship\n",
    "W = tf.Variable(tf.random_uniform([voc_size, embedding_size], -1.0, 1.0))\n",
    "WT = tf.Variable(tf.random_uniform([embedding_size, voc_size], -1.0, 1.0))\n",
    "\n",
    "#one hidden layer\n",
    "hidden_layer = tf.matmul(inputs, W) #[batch_size, embedding_size]\n",
    "output_layer = tf.matmul(hidden_layer, WT) #[batch_size, voc_size]\n",
    "\n",
    "cost = tf.reduce_mean(tf.nn.softmax_cross_entropy_with_logits_v2(logits=output_layer, labels=labels))\n",
    "optimizer = tf.train.AdamOptimizer(0.001).minimize(cost)\n",
    "\n",
    "#running Computations in a Session\n",
    "with tf.Session() as sess:\n",
    "    init = tf.global_variables_initializer()\n",
    "    sess.run(init)\n",
    "    \n",
    "    for epoch in range(5000):\n",
    "        batch_inputs, batch_labels = random_batch(skip_grams, batch_size)\n",
    "        _, loss = sess.run([optimizer, cost], feed_dict = {inputs: batch_inputs, labels: batch_labels})\n",
    "        \n",
    "        if (epoch + 1) %100 == 0:\n",
    "            print('Epoch ', '%04d' % (epoch+1), 'cost = ', '{:.6f}'.format(loss))\n",
    "        \n",
    "        trained_embeddings = W.eval()\n",
    "\n",
    " #graph display       \n",
    "for i, label in enumerate(word_list):\n",
    "    x, y = trained_embeddings[i]\n",
    "    plt.scatter(x, y)\n",
    "    plt.annotate(label, xy=(x, y), xytext=(5, 2), textcoords='offset points', ha='right', va='bottom')\n",
    "plt.show()"
   ]
  }
 ],
 "metadata": {
  "kernelspec": {
   "display_name": "Python 3",
   "language": "python",
   "name": "python3"
  },
  "language_info": {
   "codemirror_mode": {
    "name": "ipython",
    "version": 3
   },
   "file_extension": ".py",
   "mimetype": "text/x-python",
   "name": "python",
   "nbconvert_exporter": "python",
   "pygments_lexer": "ipython3",
   "version": "3.7.1"
  }
 },
 "nbformat": 4,
 "nbformat_minor": 2
}
