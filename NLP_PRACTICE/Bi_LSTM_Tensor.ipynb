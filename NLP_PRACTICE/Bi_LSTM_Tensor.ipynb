{
 "cells": [
  {
   "cell_type": "markdown",
   "metadata": {},
   "source": [
    "## Bi-LSTM?\n",
    "- Bidirectional RNN model\n",
    "- able to preserve information from both past and future\n",
    "- consists of two networks, one access pastinformation in forward direction and another access future in the reverse direction\n",
    "\n",
    "*While LSTM only allows to store information from the past, Bi-LSTM can access both past and future so it allows better understanding in context.*\n"
   ]
  },
  {
   "cell_type": "markdown",
   "metadata": {},
   "source": [
    "## Practice Code : Make a sentence"
   ]
  },
  {
   "cell_type": "code",
   "execution_count": 1,
   "metadata": {},
   "outputs": [],
   "source": [
    "import tensorflow as tf\n",
    "import numpy as np\n",
    "\n",
    "tf.reset_default_graph()"
   ]
  },
  {
   "cell_type": "code",
   "execution_count": 6,
   "metadata": {},
   "outputs": [],
   "source": [
    "sentences = ('Lorem ipsum dolor sit amet consectetur adipisicing elit '\n",
    "    'sed do eiusmod tempor incididunt ut labore et dolore magna '\n",
    "    'aliqua Ut enim ad minim veniam quis nostrud exercitation')\n",
    "\n",
    "# {'quis': 0, 'magna': 1, 'aliqua': 2, 'adipisicing': 3, ...}\n",
    "word_dict = {w : i for i,w in enumerate(list(set(sentences.split())))}\n",
    "# {0: 'quis', 1: 'magna', 2: 'aliqua', 3: 'adipisicing'...}\n",
    "number_dict = {i : w for i,w in enumerate(list(set(sentences.split())))}\n",
    "n_class = len(word_dict)\n",
    "n_step = len(sentences.split())\n",
    "n_hidden = 5"
   ]
  },
  {
   "cell_type": "code",
   "execution_count": 12,
   "metadata": {},
   "outputs": [],
   "source": [
    "def make_batch(sentence):\n",
    "    input_batch = []\n",
    "    target_batch = []\n",
    "\n",
    "    words = sentence.split()\n",
    "    for i, word in enumerate(words[:-1]):\n",
    "        input = [word_dict[n] for n in words[:(i + 1)]]  # getting indexes accumulatively\n",
    "        input = input + [0] * (n_step - len(input)) # fill out the rest indexes with 0s\n",
    "        target = word_dict[words[i + 1]] # getting next index of input\n",
    "        input_batch.append(np.eye(n_class)[input])\n",
    "        target_batch.append(np.eye(n_class)[target])\n",
    "\n",
    "    return input_batch, target_batch"
   ]
  },
  {
   "cell_type": "code",
   "execution_count": 15,
   "metadata": {
    "scrolled": true
   },
   "outputs": [
    {
     "name": "stdout",
     "output_type": "stream",
     "text": [
      "WARNING:tensorflow:From <ipython-input-15-c149b7f1259b>:9: LSTMCell.__init__ (from tensorflow.python.ops.rnn_cell_impl) is deprecated and will be removed in a future version.\n",
      "Instructions for updating:\n",
      "This class is equivalent as tf.keras.layers.LSTMCell, and will be replaced by that in Tensorflow 2.0.\n",
      "WARNING:tensorflow:From <ipython-input-15-c149b7f1259b>:13: bidirectional_dynamic_rnn (from tensorflow.python.ops.rnn) is deprecated and will be removed in a future version.\n",
      "Instructions for updating:\n",
      "Please use `keras.layers.Bidirectional(keras.layers.RNN(cell))`, which is equivalent to this API\n",
      "WARNING:tensorflow:From /anaconda3/lib/python3.7/site-packages/tensorflow/python/ops/rnn.py:443: dynamic_rnn (from tensorflow.python.ops.rnn) is deprecated and will be removed in a future version.\n",
      "Instructions for updating:\n",
      "Please use `keras.layers.RNN(cell)`, which is equivalent to this API\n"
     ]
    }
   ],
   "source": [
    "# Bi_LSTM model\n",
    "X = tf.placeholder(tf.float32, [None, n_step, n_class])\n",
    "Y = tf.placeholder(tf.float32, [None, n_class])\n",
    "\n",
    "W = tf.Variable(tf.random_normal([n_hidden*2, n_class]))\n",
    "b = tf.Variable(tf.random_normal([n_class]))\n",
    "\n",
    "# since it's bidirectional, include both forward and backward\n",
    "lstm_fw_cell = tf.nn.rnn_cell.LSTMCell(n_hidden)\n",
    "lstm_bw_cell = tf.nn.rnn_cell.LSTMCell(n_hidden)\n",
    "\n",
    "# outputs : [batch_size, len_seq, n_hidden], states : [batch_size, n_hidden]\n",
    "outputs, _ = tf.nn.bidirectional_dynamic_rnn(lstm_fw_cell, lstm_bw_cell, X, dtype=tf.float32)\n",
    "\n",
    "outputs = tf.concat([outputs[0], outputs[1]],2) # output[0]: lstm_tw, output[1]: lstm_bw\n",
    "outputs = tf.transpose(outputs,[1,0,2])  # [n_step, batch_size, n_hidden]\n",
    "outputs = outputs[-1] # [batch_size, n_hidden]\n",
    "\n",
    "model = tf.matmul(outputs,W) + b\n",
    "\n",
    "cost = tf.reduce_mean(tf.nn.softmax_cross_entropy_with_logits_v2(logits=model, labels=Y))\n",
    "optimizer = tf.train.AdamOptimizer(0.001).minimize(cost)\n",
    "\n",
    "prediction = tf.cast(tf.argmax(model,1), tf.int32)"
   ]
  },
  {
   "cell_type": "code",
   "execution_count": 19,
   "metadata": {},
   "outputs": [
    {
     "name": "stdout",
     "output_type": "stream",
     "text": [
      "Epoch:  0500 cost= 1.980381\n",
      "Epoch:  1000 cost= 1.442016\n",
      "Epoch:  1500 cost= 1.090175\n",
      "Epoch:  2000 cost= 0.849018\n",
      "Epoch:  2500 cost= 0.673616\n",
      "Epoch:  3000 cost= 0.538919\n",
      "Epoch:  3500 cost= 0.424251\n",
      "Epoch:  4000 cost= 0.344240\n",
      "Epoch:  4500 cost= 0.291671\n",
      "Epoch:  5000 cost= 0.262796\n",
      "Epoch:  5500 cost= 0.232523\n",
      "Epoch:  6000 cost= 0.190519\n",
      "Epoch:  6500 cost= 0.152863\n",
      "Epoch:  7000 cost= 0.133099\n",
      "Epoch:  7500 cost= 0.119266\n",
      "Epoch:  8000 cost= 0.107849\n",
      "Epoch:  8500 cost= 0.098265\n",
      "Epoch:  9000 cost= 2.787060\n",
      "Epoch:  9500 cost= 0.088820\n",
      "Epoch:  10000 cost= 0.085580\n",
      "original : Lorem ipsum dolor sit amet consectetur adipisicing elit sed do eiusmod tempor incididunt ut labore et dolore magna aliqua Ut enim ad minim veniam quis nostrud exercitation\n",
      "result : ['ipsum', 'dolor', 'sit', 'amet', 'consectetur', 'adipisicing', 'elit', 'sed', 'do', 'eiusmod', 'tempor', 'incididunt', 'ut', 'labore', 'et', 'dolore', 'magna', 'aliqua', 'Ut', 'enim', 'ad', 'minim', 'veniam', 'quis', 'quis', 'exercitation']\n"
     ]
    }
   ],
   "source": [
    "# Training\n",
    "init = tf.global_variables_initializer()\n",
    "sess = tf.Session()\n",
    "sess.run(init)\n",
    "\n",
    "input_batch, output_batch = make_batch(sentences)\n",
    "\n",
    "for epoch in range(10000):\n",
    "    _, loss = sess.run([optimizer, cost], feed_dict = {X: input_batch, Y: output_batch})\n",
    "    if (epoch+1)%500 ==0:\n",
    "        print('Epoch: ', '%04d' % (epoch+1),'cost=', '{:.6f}'.format(loss))\n",
    "        \n",
    "predict = sess.run([prediction], feed_dict={X: input_batch})\n",
    "print('original :' , sentences)\n",
    "print('result :', [number_dict[n] for n in [pre for pre in predict[0]]])"
   ]
  }
 ],
 "metadata": {
  "kernelspec": {
   "display_name": "Python 3",
   "language": "python",
   "name": "python3"
  },
  "language_info": {
   "codemirror_mode": {
    "name": "ipython",
    "version": 3
   },
   "file_extension": ".py",
   "mimetype": "text/x-python",
   "name": "python",
   "nbconvert_exporter": "python",
   "pygments_lexer": "ipython3",
   "version": "3.7.1"
  }
 },
 "nbformat": 4,
 "nbformat_minor": 2
}
